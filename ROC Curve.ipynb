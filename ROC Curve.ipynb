{
 "cells": [
  {
   "cell_type": "markdown",
   "metadata": {},
   "source": [
    "##  Machine Learning \n",
    "### ROC Curve"
   ]
  },
  {
   "cell_type": "markdown",
   "metadata": {},
   "source": [
    "#### ROC cruve excercise"
   ]
  },
  {
   "cell_type": "markdown",
   "metadata": {},
   "source": [
    "\n",
    "1. Test changing different values of the tree depth to visualize the effect of overfitting\n",
    "2. Use the auc function to calculate the area under the ROC curve, properly interpreting the documentation of its parameters\n",
    "3. Transform the ROC curve code into a function that draws it from a model, the features, and the labels of the test set.\n",
    "\n"
   ]
  },
  {
   "cell_type": "code",
   "execution_count": 1,
   "metadata": {},
   "outputs": [],
   "source": [
    "import numpy as np\n",
    "import pandas as pd\n",
    "import matplotlib.pyplot as plt"
   ]
  },
  {
   "cell_type": "code",
   "execution_count": 2,
   "metadata": {},
   "outputs": [],
   "source": [
    "from sklearn.tree import DecisionTreeClassifier \n",
    "from sklearn.model_selection import train_test_split"
   ]
  },
  {
   "cell_type": "code",
   "execution_count": 3,
   "metadata": {},
   "outputs": [],
   "source": [
    "from sklearn.metrics import roc_curve, auc"
   ]
  },
  {
   "cell_type": "code",
   "execution_count": 4,
   "metadata": {},
   "outputs": [],
   "source": [
    "bank = pd.read_csv('../../data/bank.csv', sep=\";\")"
   ]
  },
  {
   "cell_type": "code",
   "execution_count": 5,
   "metadata": {},
   "outputs": [],
   "source": [
    "raw_features = bank.drop(columns='y')\n",
    "ft_df = pd.get_dummies(raw_features)\n",
    "features = ft_df.values\n",
    "target = bank.y"
   ]
  },
  {
   "cell_type": "markdown",
   "metadata": {},
   "source": [
    "___"
   ]
  },
  {
   "cell_type": "markdown",
   "metadata": {},
   "source": [
    "Separation of the dataset into train/test that we already know"
   ]
  },
  {
   "cell_type": "code",
   "execution_count": 6,
   "metadata": {},
   "outputs": [],
   "source": [
    "x_train, x_test, y_train, y_test = train_test_split(features,\n",
    "                                                    target,\n",
    "                                                    test_size=0.3,\n",
    "                                                    stratify=target)"
   ]
  },
  {
   "cell_type": "markdown",
   "metadata": {},
   "source": [
    "Train decision trees"
   ]
  },
  {
   "cell_type": "code",
   "execution_count": 7,
   "metadata": {},
   "outputs": [
    {
     "name": "stdout",
     "output_type": "stream",
     "text": [
      "['no' 'yes']\n"
     ]
    }
   ],
   "source": [
    "tree = DecisionTreeClassifier(max_depth=5)\n",
    "tree = tree.fit(x_train, y_train)\n",
    "print(tree.classes_)"
   ]
  },
  {
   "cell_type": "markdown",
   "metadata": {},
   "source": [
    "The class of interest in our problem is the label 'yes', so we are interested in calculating the ratios with respect to that class. The probabilistic prediction corresponds to position 1."
   ]
  },
  {
   "cell_type": "code",
   "execution_count": 8,
   "metadata": {},
   "outputs": [],
   "source": [
    "test_pred = tree.predict_proba(x_test)\n",
    "test_posprob = test_pred[:,1]\n",
    "\n",
    "train_pred = tree.predict_proba(x_train)\n",
    "train_posprob = train_pred[:,1]"
   ]
  },
  {
   "cell_type": "markdown",
   "metadata": {},
   "source": [
    "___"
   ]
  },
  {
   "cell_type": "markdown",
   "metadata": {},
   "source": [
    "1. To test the effect of overfitting, one can change the max_depth in the construction of the tree above"
   ]
  },
  {
   "cell_type": "markdown",
   "metadata": {},
   "source": [
    "2. We calculate the area under the ROC curve using the auc function."
   ]
  },
  {
   "cell_type": "code",
   "execution_count": 9,
   "metadata": {},
   "outputs": [],
   "source": [
    "from sklearn.metrics import auc"
   ]
  },
  {
   "cell_type": "code",
   "execution_count": 10,
   "metadata": {},
   "outputs": [
    {
     "data": {
      "text/plain": [
       "0.7870044193940946"
      ]
     },
     "execution_count": 10,
     "metadata": {},
     "output_type": "execute_result"
    }
   ],
   "source": [
    "fpr, tpr, thr = roc_curve(y_test, test_posprob, pos_label='yes')\n",
    "auc(fpr, tpr)\n"
   ]
  },
  {
   "cell_type": "markdown",
   "metadata": {},
   "source": [
    "We can obtain the same thing directly with the function."
   ]
  },
  {
   "cell_type": "code",
   "execution_count": 11,
   "metadata": {},
   "outputs": [],
   "source": [
    "from sklearn.metrics import roc_auc_score"
   ]
  },
  {
   "cell_type": "code",
   "execution_count": 12,
   "metadata": {},
   "outputs": [
    {
     "data": {
      "text/plain": [
       "0.7870044193940946"
      ]
     },
     "execution_count": 12,
     "metadata": {},
     "output_type": "execute_result"
    }
   ],
   "source": [
    "roc_auc_score(y_test, test_posprob)"
   ]
  },
  {
   "cell_type": "markdown",
   "metadata": {},
   "source": [
    "3.  Function to generate the ROC curve"
   ]
  },
  {
   "cell_type": "code",
   "execution_count": 13,
   "metadata": {},
   "outputs": [],
   "source": [
    "def generar_roc(modelo, etiqueta_interes, features, labels,\n",
    "                feat_train=None,\n",
    "                labels_train=None):\n",
    "    \"\"\"\n",
    "     - modelo: clasificador binario ya entrenado\n",
    "     - etiqueta_interes: Valor de la clase binaria que queremos predecir. Ej. 'yes' o 'positiva'\n",
    "     - features, labels: Características y etiquetas de test\n",
    "     - feat_train, labels_train: opcionales por si queremos incluir la ROC de entrenamiento \n",
    "    \"\"\"\n",
    "    # hacemos la prediccion sobre la clase de interes\n",
    "    id_interes = np.where(modelo.classes_ == etiqueta_interes)[0][0]\n",
    "    prob = modelo.predict_proba(features)\n",
    "    interes_prob = prob[:,id_interes]\n",
    "    \n",
    "    # pedimos los ratios para diferentes umbrales\n",
    "    fpr, tpr, thr = roc_curve(labels, interes_prob, pos_label=etiqueta_interes)\n",
    "    \n",
    "    # Calculamos lo mismo para train, si nos han pasado dichos parametros\n",
    "    if feat_train is not None:\n",
    "        prob_train = modelo.predict_proba(feat_train)\n",
    "        pos_prob_train = prob_train[:,id_interes]\n",
    "        fpr_train, tpr_train, _ = roc_curve(labels_train, \n",
    "                                            pos_prob_train, \n",
    "                                            pos_label=etiqueta_interes)\n",
    "    \n",
    "    # Hacemos la gráfica\n",
    "    fig, ax = plt.subplots(figsize=(5,5))\n",
    "    plt.plot(fpr, tpr, color='r', label='test')\n",
    "    \n",
    "    if feat_train is not None:\n",
    "        plt.plot(fpr_train, tpr_train, color='g', label='train')\n",
    "\n",
    "    plt.plot([0,1],[0,1])\n",
    "    plt.xlim([0.0, 1.0])\n",
    "    plt.ylim([0.0,1.0])\n",
    "    plt.legend(loc='lower right')"
   ]
  },
  {
   "cell_type": "markdown",
   "metadata": {},
   "source": [
    "We try the function"
   ]
  },
  {
   "cell_type": "code",
   "execution_count": 14,
   "metadata": {},
   "outputs": [
    {
     "data": {
      "image/png": "[encoded data removed]",
      "text/plain": [
       "<Figure size 360x360 with 1 Axes>"
      ]
     },
     "metadata": {
      "needs_background": "light"
     },
     "output_type": "display_data"
    }
   ],
   "source": [
    "generar_roc(tree, 'yes', x_test, y_test)"
   ]
  },
  {
   "cell_type": "code",
   "execution_count": 15,
   "metadata": {},
   "outputs": [
    {
     "data": {
      "image/png": "[encoded data removed]",
      "text/plain": [
       "<Figure size 360x360 with 1 Axes>"
      ]
     },
     "metadata": {
      "needs_background": "light"
     },
     "output_type": "display_data"
    }
   ],
   "source": [
    "generar_roc(tree, 'yes', x_test, y_test,\n",
    "            feat_train=x_train,\n",
    "            labels_train=y_train)\n"
   ]
  },
  {
   "cell_type": "markdown",
   "metadata": {},
   "source": [
    "___"
   ]
  },
  {
   "cell_type": "code",
   "execution_count": null,
   "metadata": {},
   "outputs": [],
   "source": []
  }
 ],
 "metadata": {
  "interpreter": {
   "hash": "408b48951804fa4b88b53768b37306a6cb2325d714da557f064422e7ef20b71a"
  },
  "kernelspec": {
   "display_name": "Python 3.8.8 ('base')",
   "language": "python",
   "name": "python3"
  },
  "language_info": {
   "codemirror_mode": {
    "name": "ipython",
    "version": 3
   },
   "file_extension": ".py",
   "mimetype": "text/x-python",
   "name": "python",
   "nbconvert_exporter": "python",
   "pygments_lexer": "ipython3",
   "version": "3.8.8"
  }
 },
 "nbformat": 4,
 "nbformat_minor": 4
}
